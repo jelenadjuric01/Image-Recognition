{
 "cells": [
  {
   "cell_type": "markdown",
   "id": "48f5eac7",
   "metadata": {
    "editable": true,
    "id": "QYuALZOG-AMq",
    "papermill": {
     "duration": 0.004312,
     "end_time": "2025-03-12T22:21:09.021344",
     "exception": false,
     "start_time": "2025-03-12T22:21:09.017032",
     "status": "completed"
    },
    "slideshow": {
     "slide_type": ""
    },
    "tags": []
   },
   "source": [
    "## Assignment: Image recognition\n",
    "- Alumno 1: Nicoleta Roman\n",
    "- Alumno 2: Esteban Aspe\n",
    "- Alumno 3: Jelena Duric\n",
    "\n",
    "The goals of the assignment are:\n",
    "* Develop proficiency in using Tensorflow/Keras for training Neural Nets (NNs).\n",
    "* Put into practice the acquired knowledge to optimize the parameters and architecture of a feedforward Neural Net (ffNN), in the context of an image recognition problem.\n",
    "* Put into practice NNs specially conceived for analysing images. Design and optimize the parameters of a Convolutional Neural Net (CNN) to deal with previous task.\n",
    "* Train popular architectures from scratch (e.g., GoogLeNet, VGG, ResNet, ...), and compare the results with the ones provided by their pre-trained versions using transfer learning.\n",
    "\n",
    "Follow the link below to download the classification data set  “xview_recognition”: [https://drive.upm.es/s/4oNHlRFEd71HXp4](https://drive.upm.es/s/4oNHlRFEd71HXp4)"
   ]
  },
  {
   "cell_type": "code",
   "execution_count": 1,
   "id": "e919c04b",
   "metadata": {
    "execution": {
     "iopub.execute_input": "2025-03-12T22:21:09.030032Z",
     "iopub.status.busy": "2025-03-12T22:21:09.029686Z",
     "iopub.status.idle": "2025-03-12T22:21:22.199368Z",
     "shell.execute_reply": "2025-03-12T22:21:22.198208Z"
    },
    "papermill": {
     "duration": 13.175972,
     "end_time": "2025-03-12T22:21:22.201224",
     "exception": false,
     "start_time": "2025-03-12T22:21:09.025252",
     "status": "completed"
    },
    "tags": []
   },
   "outputs": [
    {
     "name": "stdout",
     "output_type": "stream",
     "text": [
      "[PhysicalDevice(name='/physical_device:GPU:0', device_type='GPU')]\n"
     ]
    }
   ],
   "source": [
    "import tensorflow as tf\n",
    "print(tf.config.list_physical_devices('GPU'))"
   ]
  },
  {
   "cell_type": "code",
   "execution_count": 2,
   "id": "ed091dc3",
   "metadata": {
    "execution": {
     "iopub.execute_input": "2025-03-12T22:21:22.210455Z",
     "iopub.status.busy": "2025-03-12T22:21:22.209908Z",
     "iopub.status.idle": "2025-03-12T22:21:22.215874Z",
     "shell.execute_reply": "2025-03-12T22:21:22.215003Z"
    },
    "papermill": {
     "duration": 0.011848,
     "end_time": "2025-03-12T22:21:22.217273",
     "exception": false,
     "start_time": "2025-03-12T22:21:22.205425",
     "status": "completed"
    },
    "tags": []
   },
   "outputs": [],
   "source": [
    "import uuid\n",
    "import numpy as np\n",
    "\n",
    "class GenericObject:\n",
    "    \"\"\"\n",
    "    Generic object data.\n",
    "    \"\"\"\n",
    "    def __init__(self):\n",
    "        self.id = uuid.uuid4()\n",
    "        self.bb = (-1, -1, -1, -1)\n",
    "        self.category= -1\n",
    "        self.score = -1\n",
    "\n",
    "class GenericImage:\n",
    "    \"\"\"\n",
    "    Generic image data.\n",
    "    \"\"\"\n",
    "    def __init__(self, filename):\n",
    "        self.filename = filename\n",
    "        self.tile = np.array([-1, -1, -1, -1])  # (pt_x, pt_y, pt_x+width, pt_y+height)\n",
    "        self.objects = list([])\n",
    "\n",
    "    def add_object(self, obj: GenericObject):\n",
    "        self.objects.append(obj)"
   ]
  },
  {
   "cell_type": "code",
   "execution_count": 3,
   "id": "3f3e8e69",
   "metadata": {
    "execution": {
     "iopub.execute_input": "2025-03-12T22:21:22.225678Z",
     "iopub.status.busy": "2025-03-12T22:21:22.225455Z",
     "iopub.status.idle": "2025-03-12T22:21:22.228617Z",
     "shell.execute_reply": "2025-03-12T22:21:22.228055Z"
    },
    "papermill": {
     "duration": 0.008595,
     "end_time": "2025-03-12T22:21:22.229842",
     "exception": false,
     "start_time": "2025-03-12T22:21:22.221247",
     "status": "completed"
    },
    "tags": []
   },
   "outputs": [],
   "source": [
    "categories = {0: 'Cargo plane', 1: 'Helicopter', 2: 'Small car', 3: 'Bus', 4: 'Truck', 5: 'Motorboat', 6: 'Fishing vessel', 7: 'Dump truck', 8: 'Excavator', 9: 'Building', 10: 'Storage tank', 11: 'Shipping container'}"
   ]
  },
  {
   "cell_type": "code",
   "execution_count": 4,
   "id": "d6f90057",
   "metadata": {
    "execution": {
     "iopub.execute_input": "2025-03-12T22:21:22.238289Z",
     "iopub.status.busy": "2025-03-12T22:21:22.238075Z",
     "iopub.status.idle": "2025-03-12T22:21:28.121640Z",
     "shell.execute_reply": "2025-03-12T22:21:28.120593Z"
    },
    "papermill": {
     "duration": 5.89007,
     "end_time": "2025-03-12T22:21:28.123694",
     "exception": false,
     "start_time": "2025-03-12T22:21:22.233624",
     "status": "completed"
    },
    "tags": []
   },
   "outputs": [
    {
     "name": "stdout",
     "output_type": "stream",
     "text": [
      "Collecting rasterio\r\n",
      "  Downloading rasterio-1.4.3-cp310-cp310-manylinux_2_17_x86_64.manylinux2014_x86_64.whl.metadata (9.1 kB)\r\n",
      "Collecting affine (from rasterio)\r\n",
      "  Downloading affine-2.4.0-py3-none-any.whl.metadata (4.0 kB)\r\n",
      "Requirement already satisfied: attrs in /usr/local/lib/python3.10/dist-packages (from rasterio) (25.1.0)\r\n",
      "Requirement already satisfied: certifi in /usr/local/lib/python3.10/dist-packages (from rasterio) (2025.1.31)\r\n",
      "Requirement already satisfied: click>=4.0 in /usr/local/lib/python3.10/dist-packages (from rasterio) (8.1.7)\r\n",
      "Requirement already satisfied: cligj>=0.5 in /usr/local/lib/python3.10/dist-packages (from rasterio) (0.7.2)\r\n",
      "Requirement already satisfied: numpy>=1.24 in /usr/local/lib/python3.10/dist-packages (from rasterio) (1.26.4)\r\n",
      "Requirement already satisfied: click-plugins in /usr/local/lib/python3.10/dist-packages (from rasterio) (1.1.1)\r\n",
      "Requirement already satisfied: pyparsing in /usr/local/lib/python3.10/dist-packages (from rasterio) (3.2.0)\r\n",
      "Requirement already satisfied: mkl_fft in /usr/local/lib/python3.10/dist-packages (from numpy>=1.24->rasterio) (1.3.8)\r\n",
      "Requirement already satisfied: mkl_random in /usr/local/lib/python3.10/dist-packages (from numpy>=1.24->rasterio) (1.2.4)\r\n",
      "Requirement already satisfied: mkl_umath in /usr/local/lib/python3.10/dist-packages (from numpy>=1.24->rasterio) (0.1.1)\r\n",
      "Requirement already satisfied: mkl in /usr/local/lib/python3.10/dist-packages (from numpy>=1.24->rasterio) (2025.0.1)\r\n",
      "Requirement already satisfied: tbb4py in /usr/local/lib/python3.10/dist-packages (from numpy>=1.24->rasterio) (2022.0.0)\r\n",
      "Requirement already satisfied: mkl-service in /usr/local/lib/python3.10/dist-packages (from numpy>=1.24->rasterio) (2.4.1)\r\n",
      "Requirement already satisfied: intel-openmp>=2024 in /usr/local/lib/python3.10/dist-packages (from mkl->numpy>=1.24->rasterio) (2024.2.0)\r\n",
      "Requirement already satisfied: tbb==2022.* in /usr/local/lib/python3.10/dist-packages (from mkl->numpy>=1.24->rasterio) (2022.0.0)\r\n",
      "Requirement already satisfied: tcmlib==1.* in /usr/local/lib/python3.10/dist-packages (from tbb==2022.*->mkl->numpy>=1.24->rasterio) (1.2.0)\r\n",
      "Requirement already satisfied: intel-cmplr-lib-rt in /usr/local/lib/python3.10/dist-packages (from mkl_umath->numpy>=1.24->rasterio) (2024.2.0)\r\n",
      "Requirement already satisfied: intel-cmplr-lib-ur==2024.2.0 in /usr/local/lib/python3.10/dist-packages (from intel-openmp>=2024->mkl->numpy>=1.24->rasterio) (2024.2.0)\r\n",
      "Downloading rasterio-1.4.3-cp310-cp310-manylinux_2_17_x86_64.manylinux2014_x86_64.whl (22.2 MB)\r\n",
      "\u001b[2K   \u001b[90m━━━━━━━━━━━━━━━━━━━━━━━━━━━━━━━━━━━━━━━━\u001b[0m \u001b[32m22.2/22.2 MB\u001b[0m \u001b[31m74.1 MB/s\u001b[0m eta \u001b[36m0:00:00\u001b[0m\r\n",
      "\u001b[?25hDownloading affine-2.4.0-py3-none-any.whl (15 kB)\r\n",
      "Installing collected packages: affine, rasterio\r\n",
      "Successfully installed affine-2.4.0 rasterio-1.4.3\r\n"
     ]
    }
   ],
   "source": [
    "!pip install rasterio"
   ]
  },
  {
   "cell_type": "code",
   "execution_count": 5,
   "id": "3c3db73e",
   "metadata": {
    "execution": {
     "iopub.execute_input": "2025-03-12T22:21:28.134265Z",
     "iopub.status.busy": "2025-03-12T22:21:28.134022Z",
     "iopub.status.idle": "2025-03-12T22:21:28.454437Z",
     "shell.execute_reply": "2025-03-12T22:21:28.453743Z"
    },
    "papermill": {
     "duration": 0.327525,
     "end_time": "2025-03-12T22:21:28.456117",
     "exception": false,
     "start_time": "2025-03-12T22:21:28.128592",
     "status": "completed"
    },
    "tags": []
   },
   "outputs": [],
   "source": [
    "import warnings\n",
    "import rasterio\n",
    "import numpy as np\n",
    "\n",
    "def load_geoimage(filename):\n",
    "    warnings.filterwarnings('ignore', category=rasterio.errors.NotGeoreferencedWarning)\n",
    "    src_raster = rasterio.open('/kaggle/input/deeplearning/xview_recognition/'+filename, 'r')\n",
    "    # RasterIO to OpenCV (see inconsistencies between libjpeg and libjpeg-turbo)\n",
    "    input_type = src_raster.profile['dtype']\n",
    "    input_channels = src_raster.count\n",
    "    img = np.zeros((src_raster.height, src_raster.width, src_raster.count), dtype=input_type)\n",
    "    for band in range(input_channels):\n",
    "        img[:, :, band] = src_raster.read(band+1)\n",
    "    return img"
   ]
  },
  {
   "cell_type": "markdown",
   "id": "e415b98a",
   "metadata": {
    "id": "diNBB3qy-AM2",
    "papermill": {
     "duration": 0.004298,
     "end_time": "2025-03-12T22:21:28.465493",
     "exception": false,
     "start_time": "2025-03-12T22:21:28.461195",
     "status": "completed"
    },
    "tags": []
   },
   "source": [
    "#### Training\n",
    "Design and train a CNN to deal with the “xview_recognition” classification task."
   ]
  },
  {
   "cell_type": "code",
   "execution_count": 6,
   "id": "ffee9dac",
   "metadata": {
    "execution": {
     "iopub.execute_input": "2025-03-12T22:21:28.475236Z",
     "iopub.status.busy": "2025-03-12T22:21:28.474808Z",
     "iopub.status.idle": "2025-03-12T22:21:28.601276Z",
     "shell.execute_reply": "2025-03-12T22:21:28.600461Z"
    },
    "papermill": {
     "duration": 0.133078,
     "end_time": "2025-03-12T22:21:28.602948",
     "exception": false,
     "start_time": "2025-03-12T22:21:28.469870",
     "status": "completed"
    },
    "tags": []
   },
   "outputs": [],
   "source": [
    "import json\n",
    "# Load database\n",
    "\n",
    "json_file = '/kaggle/input/deeplearning/xview_recognition/xview_ann_train.json' \n",
    "with open(json_file) as ifs:\n",
    "    json_data = json.load(ifs)\n",
    "ifs.close()"
   ]
  },
  {
   "cell_type": "code",
   "execution_count": 7,
   "id": "00443e7d",
   "metadata": {
    "execution": {
     "iopub.execute_input": "2025-03-12T22:21:28.613316Z",
     "iopub.status.busy": "2025-03-12T22:21:28.613095Z",
     "iopub.status.idle": "2025-03-12T22:21:28.997474Z",
     "shell.execute_reply": "2025-03-12T22:21:28.996431Z"
    },
    "papermill": {
     "duration": 0.39079,
     "end_time": "2025-03-12T22:21:28.998895",
     "exception": false,
     "start_time": "2025-03-12T22:21:28.608105",
     "status": "completed"
    },
    "tags": []
   },
   "outputs": [
    {
     "name": "stdout",
     "output_type": "stream",
     "text": [
      "{'Cargo plane': 635, 'Helicopter': 70, 'Small car': 4290, 'Bus': 2155, 'Truck': 2746, 'Motorboat': 1069, 'Fishing vessel': 706, 'Dump truck': 1236, 'Excavator': 789, 'Building': 4689, 'Storage tank': 1469, 'Shipping container': 1523}\n"
     ]
    }
   ],
   "source": [
    "import numpy as np\n",
    "\n",
    "counts = dict.fromkeys(categories.values(), 0)\n",
    "anns = []\n",
    "for json_img, json_ann in zip(json_data['images'].values(), json_data['annotations'].values()):\n",
    "    image = GenericImage(json_img['filename'])\n",
    "    image.tile = np.array([0, 0, json_img['width'], json_img['height']])\n",
    "    obj = GenericObject()\n",
    "    obj.bb = (int(json_ann['bbox'][0]), int(json_ann['bbox'][1]), int(json_ann['bbox'][2]), int(json_ann['bbox'][3]))\n",
    "    obj.category = json_ann['category_id']\n",
    "    # Resampling strategy to reduce training time\n",
    "    counts[obj.category] += 1\n",
    "    image.add_object(obj)\n",
    "    anns.append(image)\n",
    "print(counts)"
   ]
  },
  {
   "cell_type": "code",
   "execution_count": 8,
   "id": "6360af34",
   "metadata": {
    "execution": {
     "iopub.execute_input": "2025-03-12T22:21:29.009609Z",
     "iopub.status.busy": "2025-03-12T22:21:29.009375Z",
     "iopub.status.idle": "2025-03-12T22:21:29.899444Z",
     "shell.execute_reply": "2025-03-12T22:21:29.898410Z"
    },
    "papermill": {
     "duration": 0.896961,
     "end_time": "2025-03-12T22:21:29.901006",
     "exception": false,
     "start_time": "2025-03-12T22:21:29.004045",
     "status": "completed"
    },
    "tags": []
   },
   "outputs": [
    {
     "name": "stdout",
     "output_type": "stream",
     "text": [
      "Number of training images: 18811\n",
      "Number of validation images: 2566\n"
     ]
    }
   ],
   "source": [
    "from sklearn.model_selection import train_test_split\n",
    "\n",
    "labels = [image.objects[0].category for image in anns]\n",
    "anns_train, anns_valid = train_test_split(anns, test_size=0.12, random_state=1, shuffle=True, stratify=labels)\n",
    "print('Number of training images: ' + str(len(anns_train)))\n",
    "print('Number of validation images: ' + str(len(anns_valid)))"
   ]
  },
  {
   "cell_type": "code",
   "execution_count": 9,
   "id": "9c0b7e8c",
   "metadata": {
    "execution": {
     "iopub.execute_input": "2025-03-12T22:21:29.912271Z",
     "iopub.status.busy": "2025-03-12T22:21:29.911769Z",
     "iopub.status.idle": "2025-03-12T22:21:31.623301Z",
     "shell.execute_reply": "2025-03-12T22:21:31.622437Z"
    },
    "papermill": {
     "duration": 1.718234,
     "end_time": "2025-03-12T22:21:31.624711",
     "exception": false,
     "start_time": "2025-03-12T22:21:29.906477",
     "status": "completed"
    },
    "tags": []
   },
   "outputs": [
    {
     "name": "stdout",
     "output_type": "stream",
     "text": [
      "Load model\n",
      "Number of devices: 1\n"
     ]
    },
    {
     "name": "stderr",
     "output_type": "stream",
     "text": [
      "/usr/local/lib/python3.10/dist-packages/keras/src/layers/convolutional/base_conv.py:107: UserWarning: Do not pass an `input_shape`/`input_dim` argument to a layer. When using Sequential models, prefer using an `Input(shape)` object as the first layer in the model instead.\n",
      "  super().__init__(activity_regularizer=activity_regularizer, **kwargs)\n",
      "/usr/local/lib/python3.10/dist-packages/keras/src/layers/activations/leaky_relu.py:41: UserWarning: Argument `alpha` is deprecated. Use `negative_slope` instead.\n",
      "  warnings.warn(\n"
     ]
    },
    {
     "data": {
      "text/html": [
       "<pre style=\"white-space:pre;overflow-x:auto;line-height:normal;font-family:Menlo,'DejaVu Sans Mono',consolas,'Courier New',monospace\"><span style=\"font-weight: bold\">Model: \"sequential\"</span>\n",
       "</pre>\n"
      ],
      "text/plain": [
       "\u001b[1mModel: \"sequential\"\u001b[0m\n"
      ]
     },
     "metadata": {},
     "output_type": "display_data"
    },
    {
     "data": {
      "text/html": [
       "<pre style=\"white-space:pre;overflow-x:auto;line-height:normal;font-family:Menlo,'DejaVu Sans Mono',consolas,'Courier New',monospace\">┏━━━━━━━━━━━━━━━━━━━━━━━━━━━━━━━━━━━━━━┳━━━━━━━━━━━━━━━━━━━━━━━━━━━━━┳━━━━━━━━━━━━━━━━━┓\n",
       "┃<span style=\"font-weight: bold\"> Layer (type)                         </span>┃<span style=\"font-weight: bold\"> Output Shape                </span>┃<span style=\"font-weight: bold\">         Param # </span>┃\n",
       "┡━━━━━━━━━━━━━━━━━━━━━━━━━━━━━━━━━━━━━━╇━━━━━━━━━━━━━━━━━━━━━━━━━━━━━╇━━━━━━━━━━━━━━━━━┩\n",
       "│ conv2d (<span style=\"color: #0087ff; text-decoration-color: #0087ff\">Conv2D</span>)                      │ (<span style=\"color: #00d7ff; text-decoration-color: #00d7ff\">None</span>, <span style=\"color: #00af00; text-decoration-color: #00af00\">224</span>, <span style=\"color: #00af00; text-decoration-color: #00af00\">224</span>, <span style=\"color: #00af00; text-decoration-color: #00af00\">64</span>)        │           <span style=\"color: #00af00; text-decoration-color: #00af00\">1,792</span> │\n",
       "├──────────────────────────────────────┼─────────────────────────────┼─────────────────┤\n",
       "│ leaky_re_lu (<span style=\"color: #0087ff; text-decoration-color: #0087ff\">LeakyReLU</span>)              │ (<span style=\"color: #00d7ff; text-decoration-color: #00d7ff\">None</span>, <span style=\"color: #00af00; text-decoration-color: #00af00\">224</span>, <span style=\"color: #00af00; text-decoration-color: #00af00\">224</span>, <span style=\"color: #00af00; text-decoration-color: #00af00\">64</span>)        │               <span style=\"color: #00af00; text-decoration-color: #00af00\">0</span> │\n",
       "├──────────────────────────────────────┼─────────────────────────────┼─────────────────┤\n",
       "│ conv2d_1 (<span style=\"color: #0087ff; text-decoration-color: #0087ff\">Conv2D</span>)                    │ (<span style=\"color: #00d7ff; text-decoration-color: #00d7ff\">None</span>, <span style=\"color: #00af00; text-decoration-color: #00af00\">224</span>, <span style=\"color: #00af00; text-decoration-color: #00af00\">224</span>, <span style=\"color: #00af00; text-decoration-color: #00af00\">64</span>)        │          <span style=\"color: #00af00; text-decoration-color: #00af00\">36,928</span> │\n",
       "├──────────────────────────────────────┼─────────────────────────────┼─────────────────┤\n",
       "│ leaky_re_lu_1 (<span style=\"color: #0087ff; text-decoration-color: #0087ff\">LeakyReLU</span>)            │ (<span style=\"color: #00d7ff; text-decoration-color: #00d7ff\">None</span>, <span style=\"color: #00af00; text-decoration-color: #00af00\">224</span>, <span style=\"color: #00af00; text-decoration-color: #00af00\">224</span>, <span style=\"color: #00af00; text-decoration-color: #00af00\">64</span>)        │               <span style=\"color: #00af00; text-decoration-color: #00af00\">0</span> │\n",
       "├──────────────────────────────────────┼─────────────────────────────┼─────────────────┤\n",
       "│ max_pooling2d (<span style=\"color: #0087ff; text-decoration-color: #0087ff\">MaxPooling2D</span>)         │ (<span style=\"color: #00d7ff; text-decoration-color: #00d7ff\">None</span>, <span style=\"color: #00af00; text-decoration-color: #00af00\">112</span>, <span style=\"color: #00af00; text-decoration-color: #00af00\">112</span>, <span style=\"color: #00af00; text-decoration-color: #00af00\">64</span>)        │               <span style=\"color: #00af00; text-decoration-color: #00af00\">0</span> │\n",
       "├──────────────────────────────────────┼─────────────────────────────┼─────────────────┤\n",
       "│ conv2d_2 (<span style=\"color: #0087ff; text-decoration-color: #0087ff\">Conv2D</span>)                    │ (<span style=\"color: #00d7ff; text-decoration-color: #00d7ff\">None</span>, <span style=\"color: #00af00; text-decoration-color: #00af00\">112</span>, <span style=\"color: #00af00; text-decoration-color: #00af00\">112</span>, <span style=\"color: #00af00; text-decoration-color: #00af00\">128</span>)       │          <span style=\"color: #00af00; text-decoration-color: #00af00\">73,856</span> │\n",
       "├──────────────────────────────────────┼─────────────────────────────┼─────────────────┤\n",
       "│ leaky_re_lu_2 (<span style=\"color: #0087ff; text-decoration-color: #0087ff\">LeakyReLU</span>)            │ (<span style=\"color: #00d7ff; text-decoration-color: #00d7ff\">None</span>, <span style=\"color: #00af00; text-decoration-color: #00af00\">112</span>, <span style=\"color: #00af00; text-decoration-color: #00af00\">112</span>, <span style=\"color: #00af00; text-decoration-color: #00af00\">128</span>)       │               <span style=\"color: #00af00; text-decoration-color: #00af00\">0</span> │\n",
       "├──────────────────────────────────────┼─────────────────────────────┼─────────────────┤\n",
       "│ conv2d_3 (<span style=\"color: #0087ff; text-decoration-color: #0087ff\">Conv2D</span>)                    │ (<span style=\"color: #00d7ff; text-decoration-color: #00d7ff\">None</span>, <span style=\"color: #00af00; text-decoration-color: #00af00\">112</span>, <span style=\"color: #00af00; text-decoration-color: #00af00\">112</span>, <span style=\"color: #00af00; text-decoration-color: #00af00\">128</span>)       │         <span style=\"color: #00af00; text-decoration-color: #00af00\">147,584</span> │\n",
       "├──────────────────────────────────────┼─────────────────────────────┼─────────────────┤\n",
       "│ leaky_re_lu_3 (<span style=\"color: #0087ff; text-decoration-color: #0087ff\">LeakyReLU</span>)            │ (<span style=\"color: #00d7ff; text-decoration-color: #00d7ff\">None</span>, <span style=\"color: #00af00; text-decoration-color: #00af00\">112</span>, <span style=\"color: #00af00; text-decoration-color: #00af00\">112</span>, <span style=\"color: #00af00; text-decoration-color: #00af00\">128</span>)       │               <span style=\"color: #00af00; text-decoration-color: #00af00\">0</span> │\n",
       "├──────────────────────────────────────┼─────────────────────────────┼─────────────────┤\n",
       "│ max_pooling2d_1 (<span style=\"color: #0087ff; text-decoration-color: #0087ff\">MaxPooling2D</span>)       │ (<span style=\"color: #00d7ff; text-decoration-color: #00d7ff\">None</span>, <span style=\"color: #00af00; text-decoration-color: #00af00\">56</span>, <span style=\"color: #00af00; text-decoration-color: #00af00\">56</span>, <span style=\"color: #00af00; text-decoration-color: #00af00\">128</span>)         │               <span style=\"color: #00af00; text-decoration-color: #00af00\">0</span> │\n",
       "├──────────────────────────────────────┼─────────────────────────────┼─────────────────┤\n",
       "│ flatten (<span style=\"color: #0087ff; text-decoration-color: #0087ff\">Flatten</span>)                    │ (<span style=\"color: #00d7ff; text-decoration-color: #00d7ff\">None</span>, <span style=\"color: #00af00; text-decoration-color: #00af00\">401408</span>)              │               <span style=\"color: #00af00; text-decoration-color: #00af00\">0</span> │\n",
       "├──────────────────────────────────────┼─────────────────────────────┼─────────────────┤\n",
       "│ dense (<span style=\"color: #0087ff; text-decoration-color: #0087ff\">Dense</span>)                        │ (<span style=\"color: #00d7ff; text-decoration-color: #00d7ff\">None</span>, <span style=\"color: #00af00; text-decoration-color: #00af00\">128</span>)                 │      <span style=\"color: #00af00; text-decoration-color: #00af00\">51,380,352</span> │\n",
       "├──────────────────────────────────────┼─────────────────────────────┼─────────────────┤\n",
       "│ leaky_re_lu_4 (<span style=\"color: #0087ff; text-decoration-color: #0087ff\">LeakyReLU</span>)            │ (<span style=\"color: #00d7ff; text-decoration-color: #00d7ff\">None</span>, <span style=\"color: #00af00; text-decoration-color: #00af00\">128</span>)                 │               <span style=\"color: #00af00; text-decoration-color: #00af00\">0</span> │\n",
       "├──────────────────────────────────────┼─────────────────────────────┼─────────────────┤\n",
       "│ dense_1 (<span style=\"color: #0087ff; text-decoration-color: #0087ff\">Dense</span>)                      │ (<span style=\"color: #00d7ff; text-decoration-color: #00d7ff\">None</span>, <span style=\"color: #00af00; text-decoration-color: #00af00\">12</span>)                  │           <span style=\"color: #00af00; text-decoration-color: #00af00\">1,548</span> │\n",
       "└──────────────────────────────────────┴─────────────────────────────┴─────────────────┘\n",
       "</pre>\n"
      ],
      "text/plain": [
       "┏━━━━━━━━━━━━━━━━━━━━━━━━━━━━━━━━━━━━━━┳━━━━━━━━━━━━━━━━━━━━━━━━━━━━━┳━━━━━━━━━━━━━━━━━┓\n",
       "┃\u001b[1m \u001b[0m\u001b[1mLayer (type)                        \u001b[0m\u001b[1m \u001b[0m┃\u001b[1m \u001b[0m\u001b[1mOutput Shape               \u001b[0m\u001b[1m \u001b[0m┃\u001b[1m \u001b[0m\u001b[1m        Param #\u001b[0m\u001b[1m \u001b[0m┃\n",
       "┡━━━━━━━━━━━━━━━━━━━━━━━━━━━━━━━━━━━━━━╇━━━━━━━━━━━━━━━━━━━━━━━━━━━━━╇━━━━━━━━━━━━━━━━━┩\n",
       "│ conv2d (\u001b[38;5;33mConv2D\u001b[0m)                      │ (\u001b[38;5;45mNone\u001b[0m, \u001b[38;5;34m224\u001b[0m, \u001b[38;5;34m224\u001b[0m, \u001b[38;5;34m64\u001b[0m)        │           \u001b[38;5;34m1,792\u001b[0m │\n",
       "├──────────────────────────────────────┼─────────────────────────────┼─────────────────┤\n",
       "│ leaky_re_lu (\u001b[38;5;33mLeakyReLU\u001b[0m)              │ (\u001b[38;5;45mNone\u001b[0m, \u001b[38;5;34m224\u001b[0m, \u001b[38;5;34m224\u001b[0m, \u001b[38;5;34m64\u001b[0m)        │               \u001b[38;5;34m0\u001b[0m │\n",
       "├──────────────────────────────────────┼─────────────────────────────┼─────────────────┤\n",
       "│ conv2d_1 (\u001b[38;5;33mConv2D\u001b[0m)                    │ (\u001b[38;5;45mNone\u001b[0m, \u001b[38;5;34m224\u001b[0m, \u001b[38;5;34m224\u001b[0m, \u001b[38;5;34m64\u001b[0m)        │          \u001b[38;5;34m36,928\u001b[0m │\n",
       "├──────────────────────────────────────┼─────────────────────────────┼─────────────────┤\n",
       "│ leaky_re_lu_1 (\u001b[38;5;33mLeakyReLU\u001b[0m)            │ (\u001b[38;5;45mNone\u001b[0m, \u001b[38;5;34m224\u001b[0m, \u001b[38;5;34m224\u001b[0m, \u001b[38;5;34m64\u001b[0m)        │               \u001b[38;5;34m0\u001b[0m │\n",
       "├──────────────────────────────────────┼─────────────────────────────┼─────────────────┤\n",
       "│ max_pooling2d (\u001b[38;5;33mMaxPooling2D\u001b[0m)         │ (\u001b[38;5;45mNone\u001b[0m, \u001b[38;5;34m112\u001b[0m, \u001b[38;5;34m112\u001b[0m, \u001b[38;5;34m64\u001b[0m)        │               \u001b[38;5;34m0\u001b[0m │\n",
       "├──────────────────────────────────────┼─────────────────────────────┼─────────────────┤\n",
       "│ conv2d_2 (\u001b[38;5;33mConv2D\u001b[0m)                    │ (\u001b[38;5;45mNone\u001b[0m, \u001b[38;5;34m112\u001b[0m, \u001b[38;5;34m112\u001b[0m, \u001b[38;5;34m128\u001b[0m)       │          \u001b[38;5;34m73,856\u001b[0m │\n",
       "├──────────────────────────────────────┼─────────────────────────────┼─────────────────┤\n",
       "│ leaky_re_lu_2 (\u001b[38;5;33mLeakyReLU\u001b[0m)            │ (\u001b[38;5;45mNone\u001b[0m, \u001b[38;5;34m112\u001b[0m, \u001b[38;5;34m112\u001b[0m, \u001b[38;5;34m128\u001b[0m)       │               \u001b[38;5;34m0\u001b[0m │\n",
       "├──────────────────────────────────────┼─────────────────────────────┼─────────────────┤\n",
       "│ conv2d_3 (\u001b[38;5;33mConv2D\u001b[0m)                    │ (\u001b[38;5;45mNone\u001b[0m, \u001b[38;5;34m112\u001b[0m, \u001b[38;5;34m112\u001b[0m, \u001b[38;5;34m128\u001b[0m)       │         \u001b[38;5;34m147,584\u001b[0m │\n",
       "├──────────────────────────────────────┼─────────────────────────────┼─────────────────┤\n",
       "│ leaky_re_lu_3 (\u001b[38;5;33mLeakyReLU\u001b[0m)            │ (\u001b[38;5;45mNone\u001b[0m, \u001b[38;5;34m112\u001b[0m, \u001b[38;5;34m112\u001b[0m, \u001b[38;5;34m128\u001b[0m)       │               \u001b[38;5;34m0\u001b[0m │\n",
       "├──────────────────────────────────────┼─────────────────────────────┼─────────────────┤\n",
       "│ max_pooling2d_1 (\u001b[38;5;33mMaxPooling2D\u001b[0m)       │ (\u001b[38;5;45mNone\u001b[0m, \u001b[38;5;34m56\u001b[0m, \u001b[38;5;34m56\u001b[0m, \u001b[38;5;34m128\u001b[0m)         │               \u001b[38;5;34m0\u001b[0m │\n",
       "├──────────────────────────────────────┼─────────────────────────────┼─────────────────┤\n",
       "│ flatten (\u001b[38;5;33mFlatten\u001b[0m)                    │ (\u001b[38;5;45mNone\u001b[0m, \u001b[38;5;34m401408\u001b[0m)              │               \u001b[38;5;34m0\u001b[0m │\n",
       "├──────────────────────────────────────┼─────────────────────────────┼─────────────────┤\n",
       "│ dense (\u001b[38;5;33mDense\u001b[0m)                        │ (\u001b[38;5;45mNone\u001b[0m, \u001b[38;5;34m128\u001b[0m)                 │      \u001b[38;5;34m51,380,352\u001b[0m │\n",
       "├──────────────────────────────────────┼─────────────────────────────┼─────────────────┤\n",
       "│ leaky_re_lu_4 (\u001b[38;5;33mLeakyReLU\u001b[0m)            │ (\u001b[38;5;45mNone\u001b[0m, \u001b[38;5;34m128\u001b[0m)                 │               \u001b[38;5;34m0\u001b[0m │\n",
       "├──────────────────────────────────────┼─────────────────────────────┼─────────────────┤\n",
       "│ dense_1 (\u001b[38;5;33mDense\u001b[0m)                      │ (\u001b[38;5;45mNone\u001b[0m, \u001b[38;5;34m12\u001b[0m)                  │           \u001b[38;5;34m1,548\u001b[0m │\n",
       "└──────────────────────────────────────┴─────────────────────────────┴─────────────────┘\n"
      ]
     },
     "metadata": {},
     "output_type": "display_data"
    },
    {
     "data": {
      "text/html": [
       "<pre style=\"white-space:pre;overflow-x:auto;line-height:normal;font-family:Menlo,'DejaVu Sans Mono',consolas,'Courier New',monospace\"><span style=\"font-weight: bold\"> Total params: </span><span style=\"color: #00af00; text-decoration-color: #00af00\">51,642,060</span> (197.00 MB)\n",
       "</pre>\n"
      ],
      "text/plain": [
       "\u001b[1m Total params: \u001b[0m\u001b[38;5;34m51,642,060\u001b[0m (197.00 MB)\n"
      ]
     },
     "metadata": {},
     "output_type": "display_data"
    },
    {
     "data": {
      "text/html": [
       "<pre style=\"white-space:pre;overflow-x:auto;line-height:normal;font-family:Menlo,'DejaVu Sans Mono',consolas,'Courier New',monospace\"><span style=\"font-weight: bold\"> Trainable params: </span><span style=\"color: #00af00; text-decoration-color: #00af00\">51,642,060</span> (197.00 MB)\n",
       "</pre>\n"
      ],
      "text/plain": [
       "\u001b[1m Trainable params: \u001b[0m\u001b[38;5;34m51,642,060\u001b[0m (197.00 MB)\n"
      ]
     },
     "metadata": {},
     "output_type": "display_data"
    },
    {
     "data": {
      "text/html": [
       "<pre style=\"white-space:pre;overflow-x:auto;line-height:normal;font-family:Menlo,'DejaVu Sans Mono',consolas,'Courier New',monospace\"><span style=\"font-weight: bold\"> Non-trainable params: </span><span style=\"color: #00af00; text-decoration-color: #00af00\">0</span> (0.00 B)\n",
       "</pre>\n"
      ],
      "text/plain": [
       "\u001b[1m Non-trainable params: \u001b[0m\u001b[38;5;34m0\u001b[0m (0.00 B)\n"
      ]
     },
     "metadata": {},
     "output_type": "display_data"
    }
   ],
   "source": [
    "# Load architecture\n",
    "from tensorflow.keras.models import Sequential\n",
    "from tensorflow.keras.layers import Conv2D, MaxPooling2D, Flatten, Dense, LeakyReLU\n",
    "from tensorflow.keras.optimizers import Adam\n",
    "import tensorflow as tf\n",
    "print('Load model')\n",
    "\n",
    "\n",
    "def build_model():\n",
    "    model = Sequential([\n",
    "        # First block with dilation\n",
    "        Conv2D(64, (3, 3), dilation_rate=2, padding='same', input_shape=(224, 224, 3)),\n",
    "        LeakyReLU(alpha=0.01),\n",
    "        Conv2D(64, (3, 3), dilation_rate=2, padding='same'),\n",
    "        LeakyReLU(alpha=0.01),\n",
    "        MaxPooling2D(pool_size=(2, 2)),\n",
    "\n",
    "        # Second block with dilation\n",
    "        Conv2D(128, (3, 3), dilation_rate=2, padding='same'),\n",
    "        LeakyReLU(alpha=0.01),\n",
    "        Conv2D(128, (3, 3), dilation_rate=2, padding='same'),\n",
    "        LeakyReLU(alpha=0.01),\n",
    "        MaxPooling2D(pool_size=(2, 2)),\n",
    "\n",
    "        # Flatten layer\n",
    "        Flatten(),\n",
    "\n",
    "        # Fully connected layer\n",
    "        Dense(128),\n",
    "        LeakyReLU(alpha=0.01),\n",
    "\n",
    "        # Output layer\n",
    "        Dense(12, activation='softmax')\n",
    "    ])\n",
    "\n",
    "    # Optimizer with learning rate 0.001\n",
    "    opt = Adam(learning_rate=1e-3, beta_1=0.9, beta_2=0.999, epsilon=1e-8, amsgrad=True, clipnorm=1.0)\n",
    "    model.compile(optimizer=opt, loss='categorical_crossentropy', metrics=['accuracy'])\n",
    "    return model\n",
    "\n",
    "strategy = tf.distribute.MirroredStrategy()  # Strategy for multi-GPU usage\n",
    "print('Number of devices: {}'.format(strategy.num_replicas_in_sync))\n",
    "\n",
    "# Building the model inside the strategy scope\n",
    "with strategy.scope():\n",
    "    multi_gpu_model = build_model()\n",
    "\n",
    "multi_gpu_model.summary()"
   ]
  },
  {
   "cell_type": "code",
   "execution_count": 10,
   "id": "e8d4d4a6",
   "metadata": {
    "execution": {
     "iopub.execute_input": "2025-03-12T22:21:31.636948Z",
     "iopub.status.busy": "2025-03-12T22:21:31.636689Z",
     "iopub.status.idle": "2025-03-12T22:21:31.643040Z",
     "shell.execute_reply": "2025-03-12T22:21:31.642399Z"
    },
    "papermill": {
     "duration": 0.013804,
     "end_time": "2025-03-12T22:21:31.644272",
     "exception": false,
     "start_time": "2025-03-12T22:21:31.630468",
     "status": "completed"
    },
    "tags": []
   },
   "outputs": [],
   "source": [
    "from tensorflow.keras.callbacks import TerminateOnNaN, EarlyStopping, ReduceLROnPlateau, ModelCheckpoint\n",
    "\n",
    "# Callbacks\n",
    "model_checkpoint = ModelCheckpoint('model.keras', monitor='val_accuracy', verbose=1, save_best_only=True)\n",
    "reduce_lr = ReduceLROnPlateau('val_accuracy', factor=0.1, patience=10, verbose=1)\n",
    "early_stop = EarlyStopping('val_accuracy', patience=40, verbose=1)\n",
    "terminate = TerminateOnNaN()\n",
    "callbacks = [model_checkpoint, reduce_lr, early_stop, terminate]"
   ]
  },
  {
   "cell_type": "code",
   "execution_count": 11,
   "id": "068752c9",
   "metadata": {
    "execution": {
     "iopub.execute_input": "2025-03-12T22:21:31.656447Z",
     "iopub.status.busy": "2025-03-12T22:21:31.656216Z",
     "iopub.status.idle": "2025-03-12T22:21:31.661321Z",
     "shell.execute_reply": "2025-03-12T22:21:31.660663Z"
    },
    "papermill": {
     "duration": 0.012399,
     "end_time": "2025-03-12T22:21:31.662580",
     "exception": false,
     "start_time": "2025-03-12T22:21:31.650181",
     "status": "completed"
    },
    "tags": []
   },
   "outputs": [],
   "source": [
    "def generator_images(objs, batch_size, do_shuffle=False):\n",
    "    while True:\n",
    "        if do_shuffle:\n",
    "            np.random.shuffle(objs)\n",
    "        groups = [objs[i:i+batch_size] for i in range(0, len(objs), batch_size)]\n",
    "        for group in groups:\n",
    "            images, labels = [], []\n",
    "            for (filename, obj) in group:\n",
    "                # Load image\n",
    "                images.append(load_geoimage(filename))\n",
    "                probabilities = np.zeros(len(categories))\n",
    "                probabilities[list(categories.values()).index(obj.category)] = 1\n",
    "                labels.append(probabilities)\n",
    "            images = np.array(images).astype(np.float32)\n",
    "            labels = np.array(labels).astype(np.float32)\n",
    "            yield images, labels"
   ]
  },
  {
   "cell_type": "code",
   "execution_count": 12,
   "id": "df603793",
   "metadata": {
    "execution": {
     "iopub.execute_input": "2025-03-12T22:21:31.674388Z",
     "iopub.status.busy": "2025-03-12T22:21:31.674157Z",
     "iopub.status.idle": "2025-03-12T22:21:31.698852Z",
     "shell.execute_reply": "2025-03-12T22:21:31.698045Z"
    },
    "papermill": {
     "duration": 0.032059,
     "end_time": "2025-03-12T22:21:31.700208",
     "exception": false,
     "start_time": "2025-03-12T22:21:31.668149",
     "status": "completed"
    },
    "tags": []
   },
   "outputs": [],
   "source": [
    "# Generate the list of objects from annotations\n",
    "objs_train = [(ann.filename, obj) for ann in anns_train for obj in ann.objects]\n",
    "objs_valid = [(ann.filename, obj) for ann in anns_valid for obj in ann.objects]\n",
    "# Generators\n",
    "batch_size = 128\n",
    "train_generator = generator_images(objs_train, batch_size, do_shuffle=True)\n",
    "valid_generator = generator_images(objs_valid, batch_size, do_shuffle=False)"
   ]
  },
  {
   "cell_type": "code",
   "execution_count": 13,
   "id": "d314748b",
   "metadata": {
    "execution": {
     "iopub.execute_input": "2025-03-12T22:21:31.712451Z",
     "iopub.status.busy": "2025-03-12T22:21:31.712220Z",
     "iopub.status.idle": "2025-03-12T22:21:31.719045Z",
     "shell.execute_reply": "2025-03-12T22:21:31.718236Z"
    },
    "papermill": {
     "duration": 0.014213,
     "end_time": "2025-03-12T22:21:31.720365",
     "exception": false,
     "start_time": "2025-03-12T22:21:31.706152",
     "status": "completed"
    },
    "tags": []
   },
   "outputs": [
    {
     "data": {
      "text/plain": [
       "[name: \"/device:CPU:0\"\n",
       " device_type: \"CPU\"\n",
       " memory_limit: 268435456\n",
       " locality {\n",
       " }\n",
       " incarnation: 4179081348374656889\n",
       " xla_global_id: -1,\n",
       " name: \"/device:GPU:0\"\n",
       " device_type: \"GPU\"\n",
       " memory_limit: 16266690560\n",
       " locality {\n",
       "   bus_id: 1\n",
       "   links {\n",
       "   }\n",
       " }\n",
       " incarnation: 11067968008160021956\n",
       " physical_device_desc: \"device: 0, name: Tesla P100-PCIE-16GB, pci bus id: 0000:00:04.0, compute capability: 6.0\"\n",
       " xla_global_id: 416903419]"
      ]
     },
     "execution_count": 13,
     "metadata": {},
     "output_type": "execute_result"
    }
   ],
   "source": [
    "\n",
    "from tensorflow.python.client import device_lib\n",
    "device_lib.list_local_devices()"
   ]
  },
  {
   "cell_type": "code",
   "execution_count": 14,
   "id": "d878778f",
   "metadata": {
    "execution": {
     "iopub.execute_input": "2025-03-12T22:21:31.732222Z",
     "iopub.status.busy": "2025-03-12T22:21:31.731941Z",
     "iopub.status.idle": "2025-03-12T23:21:12.565401Z",
     "shell.execute_reply": "2025-03-12T23:21:12.564064Z"
    },
    "papermill": {
     "duration": 3580.841352,
     "end_time": "2025-03-12T23:21:12.567256",
     "exception": false,
     "start_time": "2025-03-12T22:21:31.725904",
     "status": "completed"
    },
    "tags": []
   },
   "outputs": [
    {
     "name": "stdout",
     "output_type": "stream",
     "text": [
      "Training model\n",
      "Epoch 1/20\n",
      "\u001b[1m147/147\u001b[0m \u001b[32m━━━━━━━━━━━━━━━━━━━━\u001b[0m\u001b[37m\u001b[0m \u001b[1m0s\u001b[0m 5s/step - accuracy: 0.2671 - loss: 131.9329\n",
      "Epoch 1: val_accuracy improved from -inf to 0.50039, saving model to model.keras\n",
      "\u001b[1m147/147\u001b[0m \u001b[32m━━━━━━━━━━━━━━━━━━━━\u001b[0m\u001b[37m\u001b[0m \u001b[1m778s\u001b[0m 5s/step - accuracy: 0.2679 - loss: 131.2800 - val_accuracy: 0.5004 - val_loss: 1.4947 - learning_rate: 0.0010\n",
      "Epoch 2/20\n",
      "\u001b[1m147/147\u001b[0m \u001b[32m━━━━━━━━━━━━━━━━━━━━\u001b[0m\u001b[37m\u001b[0m \u001b[1m0s\u001b[0m 941ms/step - accuracy: 0.5251 - loss: 1.4134\n",
      "Epoch 2: val_accuracy improved from 0.50039 to 0.57171, saving model to model.keras\n",
      "\u001b[1m147/147\u001b[0m \u001b[32m━━━━━━━━━━━━━━━━━━━━\u001b[0m\u001b[37m\u001b[0m \u001b[1m153s\u001b[0m 1s/step - accuracy: 0.5251 - loss: 1.4133 - val_accuracy: 0.5717 - val_loss: 1.2937 - learning_rate: 0.0010\n",
      "Epoch 3/20\n",
      "\u001b[1m147/147\u001b[0m \u001b[32m━━━━━━━━━━━━━━━━━━━━\u001b[0m\u001b[37m\u001b[0m \u001b[1m0s\u001b[0m 941ms/step - accuracy: 0.5925 - loss: 1.2177\n",
      "Epoch 3: val_accuracy improved from 0.57171 to 0.57443, saving model to model.keras\n",
      "\u001b[1m147/147\u001b[0m \u001b[32m━━━━━━━━━━━━━━━━━━━━\u001b[0m\u001b[37m\u001b[0m \u001b[1m152s\u001b[0m 1s/step - accuracy: 0.5926 - loss: 1.2176 - val_accuracy: 0.5744 - val_loss: 1.2515 - learning_rate: 0.0010\n",
      "Epoch 4/20\n",
      "\u001b[1m147/147\u001b[0m \u001b[32m━━━━━━━━━━━━━━━━━━━━\u001b[0m\u001b[37m\u001b[0m \u001b[1m0s\u001b[0m 941ms/step - accuracy: 0.6644 - loss: 1.0117\n",
      "Epoch 4: val_accuracy did not improve from 0.57443\n",
      "\u001b[1m147/147\u001b[0m \u001b[32m━━━━━━━━━━━━━━━━━━━━\u001b[0m\u001b[37m\u001b[0m \u001b[1m146s\u001b[0m 992ms/step - accuracy: 0.6644 - loss: 1.0118 - val_accuracy: 0.5733 - val_loss: 1.3548 - learning_rate: 0.0010\n",
      "Epoch 5/20\n",
      "\u001b[1m147/147\u001b[0m \u001b[32m━━━━━━━━━━━━━━━━━━━━\u001b[0m\u001b[37m\u001b[0m \u001b[1m0s\u001b[0m 941ms/step - accuracy: 0.7136 - loss: 0.8634\n",
      "Epoch 5: val_accuracy improved from 0.57443 to 0.60951, saving model to model.keras\n",
      "\u001b[1m147/147\u001b[0m \u001b[32m━━━━━━━━━━━━━━━━━━━━\u001b[0m\u001b[37m\u001b[0m \u001b[1m151s\u001b[0m 1s/step - accuracy: 0.7137 - loss: 0.8633 - val_accuracy: 0.6095 - val_loss: 1.2819 - learning_rate: 0.0010\n",
      "Epoch 6/20\n",
      "\u001b[1m147/147\u001b[0m \u001b[32m━━━━━━━━━━━━━━━━━━━━\u001b[0m\u001b[37m\u001b[0m \u001b[1m0s\u001b[0m 941ms/step - accuracy: 0.7806 - loss: 0.6725\n",
      "Epoch 6: val_accuracy did not improve from 0.60951\n",
      "\u001b[1m147/147\u001b[0m \u001b[32m━━━━━━━━━━━━━━━━━━━━\u001b[0m\u001b[37m\u001b[0m \u001b[1m146s\u001b[0m 992ms/step - accuracy: 0.7806 - loss: 0.6726 - val_accuracy: 0.5920 - val_loss: 1.4618 - learning_rate: 0.0010\n",
      "Epoch 7/20\n",
      "\u001b[1m147/147\u001b[0m \u001b[32m━━━━━━━━━━━━━━━━━━━━\u001b[0m\u001b[37m\u001b[0m \u001b[1m0s\u001b[0m 942ms/step - accuracy: 0.8249 - loss: 0.5414\n",
      "Epoch 7: val_accuracy did not improve from 0.60951\n",
      "\u001b[1m147/147\u001b[0m \u001b[32m━━━━━━━━━━━━━━━━━━━━\u001b[0m\u001b[37m\u001b[0m \u001b[1m146s\u001b[0m 993ms/step - accuracy: 0.8248 - loss: 0.5415 - val_accuracy: 0.5799 - val_loss: 1.6608 - learning_rate: 0.0010\n",
      "Epoch 8/20\n",
      "\u001b[1m147/147\u001b[0m \u001b[32m━━━━━━━━━━━━━━━━━━━━\u001b[0m\u001b[37m\u001b[0m \u001b[1m0s\u001b[0m 941ms/step - accuracy: 0.8685 - loss: 0.4206\n",
      "Epoch 8: val_accuracy did not improve from 0.60951\n",
      "\u001b[1m147/147\u001b[0m \u001b[32m━━━━━━━━━━━━━━━━━━━━\u001b[0m\u001b[37m\u001b[0m \u001b[1m146s\u001b[0m 991ms/step - accuracy: 0.8685 - loss: 0.4208 - val_accuracy: 0.5779 - val_loss: 1.8156 - learning_rate: 0.0010\n",
      "Epoch 9/20\n",
      "\u001b[1m147/147\u001b[0m \u001b[32m━━━━━━━━━━━━━━━━━━━━\u001b[0m\u001b[37m\u001b[0m \u001b[1m0s\u001b[0m 942ms/step - accuracy: 0.9008 - loss: 0.3132\n",
      "Epoch 9: val_accuracy did not improve from 0.60951\n",
      "\u001b[1m147/147\u001b[0m \u001b[32m━━━━━━━━━━━━━━━━━━━━\u001b[0m\u001b[37m\u001b[0m \u001b[1m146s\u001b[0m 993ms/step - accuracy: 0.9008 - loss: 0.3134 - val_accuracy: 0.5779 - val_loss: 2.2181 - learning_rate: 0.0010\n",
      "Epoch 10/20\n",
      "\u001b[1m147/147\u001b[0m \u001b[32m━━━━━━━━━━━━━━━━━━━━\u001b[0m\u001b[37m\u001b[0m \u001b[1m0s\u001b[0m 941ms/step - accuracy: 0.9212 - loss: 0.2552\n",
      "Epoch 10: val_accuracy did not improve from 0.60951\n",
      "\u001b[1m147/147\u001b[0m \u001b[32m━━━━━━━━━━━━━━━━━━━━\u001b[0m\u001b[37m\u001b[0m \u001b[1m146s\u001b[0m 993ms/step - accuracy: 0.9212 - loss: 0.2554 - val_accuracy: 0.5826 - val_loss: 2.5943 - learning_rate: 0.0010\n",
      "Epoch 11/20\n",
      "\u001b[1m147/147\u001b[0m \u001b[32m━━━━━━━━━━━━━━━━━━━━\u001b[0m\u001b[37m\u001b[0m \u001b[1m0s\u001b[0m 941ms/step - accuracy: 0.9273 - loss: 0.2428\n",
      "Epoch 11: val_accuracy did not improve from 0.60951\n",
      "\u001b[1m147/147\u001b[0m \u001b[32m━━━━━━━━━━━━━━━━━━━━\u001b[0m\u001b[37m\u001b[0m \u001b[1m146s\u001b[0m 991ms/step - accuracy: 0.9273 - loss: 0.2429 - val_accuracy: 0.5495 - val_loss: 2.8274 - learning_rate: 0.0010\n",
      "Epoch 12/20\n",
      "\u001b[1m147/147\u001b[0m \u001b[32m━━━━━━━━━━━━━━━━━━━━\u001b[0m\u001b[37m\u001b[0m \u001b[1m0s\u001b[0m 941ms/step - accuracy: 0.9483 - loss: 0.1857\n",
      "Epoch 12: val_accuracy did not improve from 0.60951\n",
      "\u001b[1m147/147\u001b[0m \u001b[32m━━━━━━━━━━━━━━━━━━━━\u001b[0m\u001b[37m\u001b[0m \u001b[1m146s\u001b[0m 992ms/step - accuracy: 0.9482 - loss: 0.1859 - val_accuracy: 0.5733 - val_loss: 3.2615 - learning_rate: 0.0010\n",
      "Epoch 13/20\n",
      "\u001b[1m147/147\u001b[0m \u001b[32m━━━━━━━━━━━━━━━━━━━━\u001b[0m\u001b[37m\u001b[0m \u001b[1m0s\u001b[0m 941ms/step - accuracy: 0.9593 - loss: 0.1572\n",
      "Epoch 13: val_accuracy did not improve from 0.60951\n",
      "\u001b[1m147/147\u001b[0m \u001b[32m━━━━━━━━━━━━━━━━━━━━\u001b[0m\u001b[37m\u001b[0m \u001b[1m146s\u001b[0m 993ms/step - accuracy: 0.9593 - loss: 0.1572 - val_accuracy: 0.5639 - val_loss: 3.3570 - learning_rate: 0.0010\n",
      "Epoch 14/20\n",
      "\u001b[1m147/147\u001b[0m \u001b[32m━━━━━━━━━━━━━━━━━━━━\u001b[0m\u001b[37m\u001b[0m \u001b[1m0s\u001b[0m 940ms/step - accuracy: 0.9562 - loss: 0.1644\n",
      "Epoch 14: val_accuracy did not improve from 0.60951\n",
      "\u001b[1m147/147\u001b[0m \u001b[32m━━━━━━━━━━━━━━━━━━━━\u001b[0m\u001b[37m\u001b[0m \u001b[1m146s\u001b[0m 991ms/step - accuracy: 0.9562 - loss: 0.1646 - val_accuracy: 0.5608 - val_loss: 3.5808 - learning_rate: 0.0010\n",
      "Epoch 15/20\n",
      "\u001b[1m147/147\u001b[0m \u001b[32m━━━━━━━━━━━━━━━━━━━━\u001b[0m\u001b[37m\u001b[0m \u001b[1m0s\u001b[0m 941ms/step - accuracy: 0.9619 - loss: 0.1367\n",
      "Epoch 15: val_accuracy did not improve from 0.60951\n",
      "\n",
      "Epoch 15: ReduceLROnPlateau reducing learning rate to 0.00010000000474974513.\n",
      "\u001b[1m147/147\u001b[0m \u001b[32m━━━━━━━━━━━━━━━━━━━━\u001b[0m\u001b[37m\u001b[0m \u001b[1m146s\u001b[0m 992ms/step - accuracy: 0.9619 - loss: 0.1367 - val_accuracy: 0.5721 - val_loss: 3.5427 - learning_rate: 0.0010\n",
      "Epoch 16/20\n",
      "\u001b[1m147/147\u001b[0m \u001b[32m━━━━━━━━━━━━━━━━━━━━\u001b[0m\u001b[37m\u001b[0m \u001b[1m0s\u001b[0m 941ms/step - accuracy: 0.9842 - loss: 0.0659\n",
      "Epoch 16: val_accuracy did not improve from 0.60951\n",
      "\u001b[1m147/147\u001b[0m \u001b[32m━━━━━━━━━━━━━━━━━━━━\u001b[0m\u001b[37m\u001b[0m \u001b[1m146s\u001b[0m 992ms/step - accuracy: 0.9842 - loss: 0.0658 - val_accuracy: 0.5861 - val_loss: 3.9047 - learning_rate: 1.0000e-04\n",
      "Epoch 17/20\n",
      "\u001b[1m147/147\u001b[0m \u001b[32m━━━━━━━━━━━━━━━━━━━━\u001b[0m\u001b[37m\u001b[0m \u001b[1m0s\u001b[0m 942ms/step - accuracy: 0.9949 - loss: 0.0335\n",
      "Epoch 17: val_accuracy did not improve from 0.60951\n",
      "\u001b[1m147/147\u001b[0m \u001b[32m━━━━━━━━━━━━━━━━━━━━\u001b[0m\u001b[37m\u001b[0m \u001b[1m146s\u001b[0m 992ms/step - accuracy: 0.9949 - loss: 0.0335 - val_accuracy: 0.5873 - val_loss: 4.2535 - learning_rate: 1.0000e-04\n",
      "Epoch 18/20\n",
      "\u001b[1m147/147\u001b[0m \u001b[32m━━━━━━━━━━━━━━━━━━━━\u001b[0m\u001b[37m\u001b[0m \u001b[1m0s\u001b[0m 942ms/step - accuracy: 0.9945 - loss: 0.0241\n",
      "Epoch 18: val_accuracy did not improve from 0.60951\n",
      "\u001b[1m147/147\u001b[0m \u001b[32m━━━━━━━━━━━━━━━━━━━━\u001b[0m\u001b[37m\u001b[0m \u001b[1m146s\u001b[0m 993ms/step - accuracy: 0.9945 - loss: 0.0241 - val_accuracy: 0.5889 - val_loss: 4.3738 - learning_rate: 1.0000e-04\n",
      "Epoch 19/20\n",
      "\u001b[1m147/147\u001b[0m \u001b[32m━━━━━━━━━━━━━━━━━━━━\u001b[0m\u001b[37m\u001b[0m \u001b[1m0s\u001b[0m 941ms/step - accuracy: 0.9957 - loss: 0.0222\n",
      "Epoch 19: val_accuracy did not improve from 0.60951\n",
      "\u001b[1m147/147\u001b[0m \u001b[32m━━━━━━━━━━━━━━━━━━━━\u001b[0m\u001b[37m\u001b[0m \u001b[1m146s\u001b[0m 991ms/step - accuracy: 0.9957 - loss: 0.0222 - val_accuracy: 0.5931 - val_loss: 4.6474 - learning_rate: 1.0000e-04\n",
      "Epoch 20/20\n",
      "\u001b[1m147/147\u001b[0m \u001b[32m━━━━━━━━━━━━━━━━━━━━\u001b[0m\u001b[37m\u001b[0m \u001b[1m0s\u001b[0m 941ms/step - accuracy: 0.9955 - loss: 0.0192\n",
      "Epoch 20: val_accuracy did not improve from 0.60951\n",
      "\u001b[1m147/147\u001b[0m \u001b[32m━━━━━━━━━━━━━━━━━━━━\u001b[0m\u001b[37m\u001b[0m \u001b[1m146s\u001b[0m 991ms/step - accuracy: 0.9955 - loss: 0.0192 - val_accuracy: 0.5846 - val_loss: 4.9441 - learning_rate: 1.0000e-04\n",
      "Best validation model: epoch 5  - val_accuracy 0.6095089912414551\n"
     ]
    }
   ],
   "source": [
    "import math\n",
    "import numpy as np\n",
    "\n",
    "print('Training model')\n",
    "epochs = 20\n",
    "train_steps = math.ceil(len(objs_train)/batch_size)\n",
    "valid_steps = math.ceil(len(objs_valid)/batch_size)\n",
    "\n",
    "with tf.device(\"/device:GPU:0\"):\n",
    "    h = multi_gpu_model.fit(train_generator, steps_per_epoch=train_steps, validation_data=valid_generator, validation_steps=valid_steps, epochs=epochs, callbacks=callbacks, verbose=1)\n",
    "# Best validation model\n",
    "best_idx = int(np.argmax(h.history['val_accuracy']))\n",
    "best_value = np.max(h.history['val_accuracy'])\n",
    "print('Best validation model: epoch ' + str(best_idx+1), ' - val_accuracy ' + str(best_value))"
   ]
  },
  {
   "cell_type": "markdown",
   "id": "365f014b",
   "metadata": {
    "editable": true,
    "id": "8IMMO_mT-AM9",
    "papermill": {
     "duration": 0.207599,
     "end_time": "2025-03-12T23:21:12.973064",
     "exception": false,
     "start_time": "2025-03-12T23:21:12.765465",
     "status": "completed"
    },
    "slideshow": {
     "slide_type": ""
    },
    "tags": []
   },
   "source": [
    "#### Validation\n",
    "Compute validation metrics."
   ]
  },
  {
   "cell_type": "code",
   "execution_count": 15,
   "id": "3961d689",
   "metadata": {
    "execution": {
     "iopub.execute_input": "2025-03-12T23:21:13.325420Z",
     "iopub.status.busy": "2025-03-12T23:21:13.324959Z",
     "iopub.status.idle": "2025-03-12T23:21:13.336742Z",
     "shell.execute_reply": "2025-03-12T23:21:13.335860Z"
    },
    "papermill": {
     "duration": 0.180153,
     "end_time": "2025-03-12T23:21:13.338042",
     "exception": false,
     "start_time": "2025-03-12T23:21:13.157889",
     "status": "completed"
    },
    "tags": []
   },
   "outputs": [],
   "source": [
    "import matplotlib.pyplot as plt\n",
    "import numpy as np\n",
    "\n",
    "def draw_confusion_matrix(cm, categories):\n",
    "    # Draw confusion matrix\n",
    "    fig = plt.figure(figsize=[6.4*pow(len(categories), 0.5), 4.8*pow(len(categories), 0.5)])\n",
    "    ax = fig.add_subplot(111)\n",
    "    cm = cm.astype('float') / np.maximum(cm.sum(axis=1)[:, np.newaxis], np.finfo(np.float64).eps)\n",
    "    im = ax.imshow(cm, interpolation='nearest', cmap=plt.cm.get_cmap('Blues'))\n",
    "    ax.figure.colorbar(im, ax=ax)\n",
    "    ax.set(xticks=np.arange(cm.shape[1]), yticks=np.arange(cm.shape[0]), xticklabels=list(categories.values()), yticklabels=list(categories.values()), ylabel='Annotation', xlabel='Prediction')\n",
    "    # Rotate the tick labels and set their alignment\n",
    "    plt.setp(ax.get_xticklabels(), rotation=45, ha=\"right\", rotation_mode=\"anchor\")\n",
    "    # Loop over data dimensions and create text annotations\n",
    "    thresh = cm.max() / 2.0\n",
    "    for i in range(cm.shape[0]):\n",
    "        for j in range(cm.shape[1]):\n",
    "            ax.text(j, i, format(cm[i, j], '.2f'), ha=\"center\", va=\"center\", color=\"white\" if cm[i, j] > thresh else \"black\", fontsize=int(20-pow(len(categories), 0.5)))\n",
    "    fig.tight_layout()\n",
    "    plt.savefig(\"/kaggle/working/confusion_matrix.png\", format=\"png\", bbox_inches=\"tight\")\n",
    "    plt.close()"
   ]
  },
  {
   "cell_type": "code",
   "execution_count": 16,
   "id": "84e0a97b",
   "metadata": {
    "execution": {
     "iopub.execute_input": "2025-03-12T23:21:13.640009Z",
     "iopub.status.busy": "2025-03-12T23:21:13.639596Z",
     "iopub.status.idle": "2025-03-12T23:26:34.821865Z",
     "shell.execute_reply": "2025-03-12T23:26:34.821059Z"
    },
    "papermill": {
     "duration": 321.334546,
     "end_time": "2025-03-12T23:26:34.823614",
     "exception": false,
     "start_time": "2025-03-12T23:21:13.489068",
     "status": "completed"
    },
    "tags": []
   },
   "outputs": [],
   "source": [
    "import numpy as np\n",
    "model = multi_gpu_model\n",
    "multi_gpu_model.load_weights('model.keras')\n",
    "y_true, y_pred = [], []\n",
    "for ann in anns_valid:\n",
    "    # Load image\n",
    "    image = load_geoimage(ann.filename)\n",
    "    for obj_pred in ann.objects:\n",
    "        # Generate prediction\n",
    "        warped_image = np.expand_dims(image, 0)\n",
    "        predictions = model.predict(warped_image, verbose=0)\n",
    "        # Save prediction\n",
    "        pred_category = list(categories.values())[np.argmax(predictions)]\n",
    "        pred_score = np.max(predictions)\n",
    "        y_true.append(obj_pred.category)\n",
    "        y_pred.append(pred_category)"
   ]
  },
  {
   "cell_type": "code",
   "execution_count": 17,
   "id": "959b4ff1",
   "metadata": {
    "execution": {
     "iopub.execute_input": "2025-03-12T23:26:35.121782Z",
     "iopub.status.busy": "2025-03-12T23:26:35.121465Z",
     "iopub.status.idle": "2025-03-12T23:26:37.289849Z",
     "shell.execute_reply": "2025-03-12T23:26:37.288795Z"
    },
    "papermill": {
     "duration": 2.319425,
     "end_time": "2025-03-12T23:26:37.291463",
     "exception": false,
     "start_time": "2025-03-12T23:26:34.972038",
     "status": "completed"
    },
    "tags": []
   },
   "outputs": [
    {
     "name": "stderr",
     "output_type": "stream",
     "text": [
      "<ipython-input-15-4b3a525271dc>:9: MatplotlibDeprecationWarning: The get_cmap function was deprecated in Matplotlib 3.7 and will be removed two minor releases later. Use ``matplotlib.colormaps[name]`` or ``matplotlib.colormaps.get_cmap(obj)`` instead.\n",
      "  im = ax.imshow(cm, interpolation='nearest', cmap=plt.cm.get_cmap('Blues'))\n"
     ]
    }
   ],
   "source": [
    "from sklearn.metrics import confusion_matrix\n",
    "\n",
    "# Compute the confusion matrix\n",
    "cm = confusion_matrix(y_true, y_pred, labels=list(categories.values()))\n",
    "draw_confusion_matrix(cm, categories)\n",
    "\n",
    "results = h.history\n",
    "\n",
    "fig, axes = plt.subplots(nrows=2, ncols=1, figsize=(8, 10))\n",
    "\n",
    "# Plot Accuracy\n",
    "axes[0].plot(results[\"accuracy\"], label=\"Training Accuracy\", color=\"blue\")\n",
    "axes[0].plot(results[\"val_accuracy\"], label=\"Validation Accuracy\", color=\"green\")\n",
    "axes[0].set_ylabel(\"Accuracy\")\n",
    "axes[0].set_title(\"Accuracy Over Epochs\")\n",
    "axes[0].legend()\n",
    "axes[0].grid(True)\n",
    "axes[0].set_ylim(0, 1)  # Normalize y-axis for accuracy (0-1 range)\n",
    "\n",
    "# Plot Loss\n",
    "axes[1].plot(results[\"loss\"], label=\"Training Loss\", color=\"red\")\n",
    "axes[1].plot(results[\"val_loss\"], label=\"Validation Loss\", color=\"orange\")\n",
    "axes[1].set_ylabel(\"Loss\")\n",
    "axes[1].set_title(\"Loss Over Epochs\")\n",
    "axes[1].legend()\n",
    "axes[1].grid(True)\n",
    "axes[1].set_ylim(0, max(max(results[\"loss\"]), max(results[\"val_loss\"])) * 1.1)  # Normalize loss y-axis\n",
    "\n",
    "plt.xlabel(\"Epochs\")\n",
    "plt.tight_layout()\n",
    "\n",
    "plt.savefig(\"/kaggle/working/plot.png\", format=\"png\", bbox_inches=\"tight\")\n",
    "plt.close()"
   ]
  },
  {
   "cell_type": "code",
   "execution_count": 18,
   "id": "726cc8b3",
   "metadata": {
    "execution": {
     "iopub.execute_input": "2025-03-12T23:26:37.584435Z",
     "iopub.status.busy": "2025-03-12T23:26:37.584127Z",
     "iopub.status.idle": "2025-03-12T23:26:37.596205Z",
     "shell.execute_reply": "2025-03-12T23:26:37.595296Z"
    },
    "papermill": {
     "duration": 0.157561,
     "end_time": "2025-03-12T23:26:37.597751",
     "exception": false,
     "start_time": "2025-03-12T23:26:37.440190",
     "status": "completed"
    },
    "tags": []
   },
   "outputs": [
    {
     "name": "stdout",
     "output_type": "stream",
     "text": [
      "Mean Accuracy: 60.951%\n",
      "Mean Recall: 51.644%\n",
      "Mean Precision: 63.202%\n",
      "> Cargo plane: Recall: 82.895% Precision: 90.000% Specificity: 99.719% Dice: 86.301%\n",
      "> Helicopter: Recall: 25.000% Precision: 100.000% Specificity: 100.000% Dice: 40.000%\n",
      "> Small car: Recall: 85.631% Precision: 70.900% Specificity: 91.175% Dice: 77.573%\n",
      "> Bus: Recall: 51.351% Precision: 45.704% Specificity: 93.151% Dice: 48.364%\n",
      "> Truck: Recall: 32.424% Precision: 37.282% Specificity: 91.950% Dice: 34.684%\n",
      "> Motorboat: Recall: 36.719% Precision: 63.514% Specificity: 98.893% Dice: 46.535%\n",
      "> Fishing vessel: Recall: 42.353% Precision: 52.941% Specificity: 98.710% Dice: 47.059%\n",
      "> Dump truck: Recall: 41.892% Precision: 40.789% Specificity: 96.278% Dice: 41.333%\n",
      "> Excavator: Recall: 52.632% Precision: 64.103% Specificity: 98.867% Dice: 57.803%\n",
      "> Building: Recall: 83.481% Precision: 69.733% Specificity: 89.815% Dice: 75.990%\n",
      "> Storage tank: Recall: 45.455% Precision: 61.069% Specificity: 97.866% Dice: 52.117%\n",
      "> Shipping container: Recall: 39.891% Precision: 62.393% Specificity: 98.154% Dice: 48.667%\n"
     ]
    }
   ],
   "source": [
    "import numpy as np\n",
    "\n",
    "# Compute the accuracy\n",
    "correct_samples_class = np.diag(cm).astype(float)\n",
    "total_samples_class = np.sum(cm, axis=1).astype(float)\n",
    "total_predicts_class = np.sum(cm, axis=0).astype(float)\n",
    "print('Mean Accuracy: %.3f%%' % (np.sum(correct_samples_class) / np.sum(total_samples_class) * 100))\n",
    "acc = correct_samples_class / np.maximum(total_samples_class, np.finfo(np.float64).eps)\n",
    "print('Mean Recall: %.3f%%' % (acc.mean() * 100))\n",
    "acc = correct_samples_class / np.maximum(total_predicts_class, np.finfo(np.float64).eps)\n",
    "print('Mean Precision: %.3f%%' % (acc.mean() * 100))\n",
    "for idx in range(len(categories)):\n",
    "    # True/False Positives (TP/FP) refer to the number of predicted positives that were correct/incorrect.\n",
    "    # True/False Negatives (TN/FN) refer to the number of predicted negatives that were correct/incorrect.\n",
    "    tp = cm[idx, idx]\n",
    "    fp = sum(cm[:, idx]) - tp\n",
    "    fn = sum(cm[idx, :]) - tp\n",
    "    tn = sum(np.delete(sum(cm) - cm[idx, :], idx))\n",
    "    # True Positive Rate: proportion of real positive cases that were correctly predicted as positive.\n",
    "    recall = tp / np.maximum(tp+fn, np.finfo(np.float64).eps)\n",
    "    # Precision: proportion of predicted positive cases that were truly real positives.\n",
    "    precision = tp / np.maximum(tp+fp, np.finfo(np.float64).eps)\n",
    "    # True Negative Rate: proportion of real negative cases that were correctly predicted as negative.\n",
    "    specificity = tn / np.maximum(tn+fp, np.finfo(np.float64).eps)\n",
    "    # Dice coefficient refers to two times the intersection of two sets divided by the sum of their areas.\n",
    "    # Dice = 2 |A∩B| / (|A|+|B|) = 2 TP / (2 TP + FP + FN)\n",
    "    f1_score = 2 * ((precision * recall) / np.maximum(precision+recall, np.finfo(np.float64).eps))\n",
    "    print('> %s: Recall: %.3f%% Precision: %.3f%% Specificity: %.3f%% Dice: %.3f%%' % (list(categories.values())[idx], recall*100, precision*100, specificity*100, f1_score*100))"
   ]
  },
  {
   "cell_type": "markdown",
   "id": "e628e95b",
   "metadata": {
    "papermill": {
     "duration": 0.162121,
     "end_time": "2025-03-12T23:26:37.906080",
     "exception": false,
     "start_time": "2025-03-12T23:26:37.743959",
     "status": "completed"
    },
    "tags": []
   },
   "source": [
    "#### Testing\n",
    "Try to improve the results provided in the competition."
   ]
  },
  {
   "cell_type": "code",
   "execution_count": 19,
   "id": "facb443c",
   "metadata": {
    "execution": {
     "iopub.execute_input": "2025-03-12T23:26:38.269322Z",
     "iopub.status.busy": "2025-03-12T23:26:38.268959Z",
     "iopub.status.idle": "2025-03-12T23:26:41.480858Z",
     "shell.execute_reply": "2025-03-12T23:26:41.479717Z"
    },
    "papermill": {
     "duration": 3.42489,
     "end_time": "2025-03-12T23:26:41.482350",
     "exception": false,
     "start_time": "2025-03-12T23:26:38.057460",
     "status": "completed"
    },
    "tags": []
   },
   "outputs": [
    {
     "name": "stdout",
     "output_type": "stream",
     "text": [
      "Number of testing images: 2635\n"
     ]
    }
   ],
   "source": [
    "import os\n",
    "import numpy as np\n",
    "\n",
    "anns = []\n",
    "for (dirpath, dirnames, filenames) in os.walk('/kaggle/input/deeplearning/xview_recognition/xview_test'):\n",
    "#for (dirpath, dirnames, filenames) in os.walk('xview_recognition/xview_test'):\n",
    "    \n",
    "    for filename in filenames:\n",
    "        #image = GenericImage(dirpath[18:]+'/'+filename)\n",
    "        image = GenericImage('xview_test/'+filename)\n",
    "        image.tile = np.array([0, 0, 224, 224])\n",
    "        obj = GenericObject()\n",
    "        obj.bb = (0, 0, 224, 224)\n",
    "        obj.category = dirpath[dirpath.rfind('/')+1:]\n",
    "        image.add_object(obj)\n",
    "        anns.append(image)\n",
    "print('Number of testing images: ' + str(len(anns)))"
   ]
  },
  {
   "cell_type": "code",
   "execution_count": 20,
   "id": "d0c537b2",
   "metadata": {
    "execution": {
     "iopub.execute_input": "2025-03-12T23:26:41.775440Z",
     "iopub.status.busy": "2025-03-12T23:26:41.775137Z",
     "iopub.status.idle": "2025-03-12T23:33:41.732729Z",
     "shell.execute_reply": "2025-03-12T23:33:41.731651Z"
    },
    "papermill": {
     "duration": 420.106449,
     "end_time": "2025-03-12T23:33:41.734551",
     "exception": false,
     "start_time": "2025-03-12T23:26:41.628102",
     "status": "completed"
    },
    "tags": []
   },
   "outputs": [],
   "source": [
    "import numpy as np\n",
    "\n",
    "model.load_weights('model.keras')\n",
    "predictions_data = {\"images\": {}, \"annotations\": {}}\n",
    "for idx, ann in enumerate(anns):\n",
    "    image_data = {\"image_id\": ann.filename.split('/')[-1], \"filename\": ann.filename, \"width\": int(ann.tile[2]), \"height\": int(ann.tile[3])}\n",
    "    predictions_data[\"images\"][idx] = image_data\n",
    "    # Load image\n",
    "    image = load_geoimage(ann.filename)\n",
    "    for obj_pred in ann.objects:\n",
    "        # Generate prediction\n",
    "        warped_image = np.expand_dims(image, 0)\n",
    "        predictions = model.predict(warped_image, verbose=0)\n",
    "        # Save prediction\n",
    "        pred_category = list(categories.values())[np.argmax(predictions)]\n",
    "        pred_score = np.max(predictions)\n",
    "        annotation_data = {\"image_id\": ann.filename.split('/')[-1], \"category_id\": pred_category, \"bbox\": [int(x) for x in obj_pred.bb]}\n",
    "        predictions_data[\"annotations\"][idx] = annotation_data"
   ]
  },
  {
   "cell_type": "code",
   "execution_count": 21,
   "id": "03f39d71",
   "metadata": {
    "execution": {
     "iopub.execute_input": "2025-03-12T23:33:42.038364Z",
     "iopub.status.busy": "2025-03-12T23:33:42.038036Z",
     "iopub.status.idle": "2025-03-12T23:33:42.089512Z",
     "shell.execute_reply": "2025-03-12T23:33:42.088778Z"
    },
    "papermill": {
     "duration": 0.204868,
     "end_time": "2025-03-12T23:33:42.090959",
     "exception": false,
     "start_time": "2025-03-12T23:33:41.886091",
     "status": "completed"
    },
    "tags": []
   },
   "outputs": [],
   "source": [
    "with open(\"/kaggle/working/prediction.json\", \"w\") as outfile:\n",
    "    json.dump(predictions_data, outfile)\n",
    "#with open(\"prediction.json\", \"w\") as outfile:\n",
    "    #json.dump(predictions_data, outfile)"
   ]
  }
 ],
 "metadata": {
  "kaggle": {
   "accelerator": "gpu",
   "dataSources": [
    {
     "datasetId": 6708542,
     "sourceId": 10807452,
     "sourceType": "datasetVersion"
    },
    {
     "datasetId": 6708552,
     "sourceId": 10807462,
     "sourceType": "datasetVersion"
    }
   ],
   "isGpuEnabled": true,
   "isInternetEnabled": true,
   "language": "python",
   "sourceType": "notebook"
  },
  "kernelspec": {
   "display_name": "Python 3",
   "language": "python",
   "name": "python3"
  },
  "language_info": {
   "codemirror_mode": {
    "name": "ipython",
    "version": 3
   },
   "file_extension": ".py",
   "mimetype": "text/x-python",
   "name": "python",
   "nbconvert_exporter": "python",
   "pygments_lexer": "ipython3",
   "version": "3.10.12"
  },
  "papermill": {
   "default_parameters": {},
   "duration": 4358.942571,
   "end_time": "2025-03-12T23:33:45.307367",
   "environment_variables": {},
   "exception": null,
   "input_path": "__notebook__.ipynb",
   "output_path": "__notebook__.ipynb",
   "parameters": {},
   "start_time": "2025-03-12T22:21:06.364796",
   "version": "2.6.0"
  }
 },
 "nbformat": 4,
 "nbformat_minor": 5
}
